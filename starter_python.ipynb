{
 "cells": [
  {
   "cell_type": "markdown",
   "id": "320a639a",
   "metadata": {},
   "source": [
    "# Cokehaven starter python\n",
    "In dit startset maak ik gebruik van het scikitlearn framework,\n",
    "dat maakt het makkelijk om te wisselen van model. Je bent natuurlijk helemaal\n",
    "vrij om andere keuzen te maken.\n",
    "\n",
    "`*` betekend dat ik dit nog niet voor je heb gedaan.\n",
    "\n",
    "inhoud\n",
    "- imports en installation\n",
    " - dataset overzicht\n",
    " - split in test en trainingset\n",
    " (in 1 pipeline:)\n",
    " - initialisatie van random forest model\n",
    " - feature engineering (in python moet je geloof ik one-hot encoden)\n",
    " - train model op trainingsdata\n",
    " (einde pipeline)\n",
    " - voorspel op testdata \n",
    " - * bekijk metrics en roc_curve\n",
    " - * schrijf voorspellingen weg in csv"
   ]
  },
  {
   "cell_type": "code",
   "execution_count": 15,
   "id": "1ef25352",
   "metadata": {},
   "outputs": [],
   "source": [
    "#!pip install scikit-learn"
   ]
  },
  {
   "cell_type": "code",
   "execution_count": 16,
   "id": "2dbbbf56",
   "metadata": {},
   "outputs": [],
   "source": [
    "## imports\n",
    "import pandas as pd\n",
    "# display all columns etc\n",
    "pd.set_option('display.max_columns', None)\n",
    "pd.set_option('display.width', None)\n",
    "pd.set_option('display.max_colwidth', None)\n",
    "import numpy as np\n",
    "from sklearn.model_selection import train_test_split"
   ]
  },
  {
   "cell_type": "code",
   "execution_count": 28,
   "id": "71b229de",
   "metadata": {},
   "outputs": [
    {
     "data": {
      "text/plain": [
       "Index(['load_date', 'arrival_date', 'land_van_afkomst', 'lading', 'gekoeld',\n",
       "       'TUE', 'weight', 'ship', 'stops_in_between', 'ship_flag',\n",
       "       'containercolor', 'ontvanger_container', 'coke_ind', 'coke_kilo'],\n",
       "      dtype='object')"
      ]
     },
     "execution_count": 28,
     "metadata": {},
     "output_type": "execute_result"
    }
   ],
   "source": [
    "dataset_cokehaven = pd.read_csv(\"trainingset_cokehaven.csv\").set_index(\"containerid\")\n",
    "dataset_cokehaven.columns"
   ]
  },
  {
   "cell_type": "code",
   "execution_count": 41,
   "id": "363e4567",
   "metadata": {},
   "outputs": [],
   "source": [
    "# bekijk de dataset\n",
    "#dataset_cokehaven"
   ]
  },
  {
   "cell_type": "code",
   "execution_count": 31,
   "id": "8d17f248",
   "metadata": {},
   "outputs": [],
   "source": [
    "# split the dataset into training and validation set \n",
    "labels = dataset_cokehaven[\"coke_ind\"]\n",
    "# weight+lading+land_van_afkomst\n",
    "workset = dataset_cokehaven[['weight', 'lading', 'land_van_afkomst']]\n",
    "x_train, x_test, y_train, y_test = train_test_split(workset, labels)"
   ]
  },
  {
   "cell_type": "code",
   "execution_count": 42,
   "id": "fac7b8b8",
   "metadata": {},
   "outputs": [],
   "source": [
    "x_train"
   ]
  },
  {
   "cell_type": "code",
   "execution_count": 43,
   "id": "1b4baf0a",
   "metadata": {},
   "outputs": [],
   "source": [
    "y_train"
   ]
  },
  {
   "cell_type": "code",
   "execution_count": 36,
   "id": "7040ab42",
   "metadata": {},
   "outputs": [],
   "source": [
    "from sklearn.ensemble import RandomForestClassifier\n",
    "from sklearn.utils import resample\n",
    "from sklearn.pipeline import Pipeline\n",
    "from sklearn.preprocessing import OneHotEncoder"
   ]
  },
  {
   "cell_type": "code",
   "execution_count": 25,
   "id": "1d19c0b8",
   "metadata": {},
   "outputs": [],
   "source": [
    "# model"
   ]
  },
  {
   "cell_type": "code",
   "execution_count": 37,
   "id": "9aab6f23",
   "metadata": {},
   "outputs": [],
   "source": [
    "# turn text features into dummies.\n",
    "# I have not downsampled the majority class. I think it will significantly improve the speed and accuracy.\n",
    "pipe = Pipeline([\n",
    "    ('encoder', OneHotEncoder()), \n",
    "    ('rf', RandomForestClassifier())\n",
    "])"
   ]
  },
  {
   "cell_type": "code",
   "execution_count": null,
   "id": "64bb90b9",
   "metadata": {},
   "outputs": [],
   "source": [
    "pipe.fit(x_train, y_train)"
   ]
  },
  {
   "cell_type": "code",
   "execution_count": null,
   "id": "70505f19",
   "metadata": {},
   "outputs": [],
   "source": [
    "pipe.score(y_test)"
   ]
  },
  {
   "cell_type": "code",
   "execution_count": null,
   "id": "a652b902",
   "metadata": {},
   "outputs": [],
   "source": [
    "# eventueel retrainen\n",
    "# en vervolgens kies je beste 400 predictions."
   ]
  },
  {
   "cell_type": "markdown",
   "id": "117357f8",
   "metadata": {},
   "source": [
    "## Look for more info:\n",
    "\n",
    "https://vitalflux.com/handling-class-imbalance-sklearn-resample-python/\n",
    "\n",
    "https://scikit-learn.org/stable/modules/generated/sklearn.ensemble.RandomForestClassifier.html\n",
    "\n",
    "idealiter in pipeline https://scikit-learn.org/stable/modules/generated/sklearn.pipeline.Pipeline.html\n",
    "\n",
    "https://scikit-learn.org/stable/modules/generated/sklearn.metrics.roc_curve.html"
   ]
  }
 ],
 "metadata": {
  "kernelspec": {
   "display_name": "Python 3 (ipykernel)",
   "language": "python",
   "name": "python3"
  },
  "language_info": {
   "codemirror_mode": {
    "name": "ipython",
    "version": 3
   },
   "file_extension": ".py",
   "mimetype": "text/x-python",
   "name": "python",
   "nbconvert_exporter": "python",
   "pygments_lexer": "ipython3",
   "version": "3.9.4"
  }
 },
 "nbformat": 4,
 "nbformat_minor": 5
}
